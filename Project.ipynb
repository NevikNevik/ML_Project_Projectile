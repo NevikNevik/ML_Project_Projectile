{
 "cells": [
  {
   "cell_type": "markdown",
   "metadata": {},
   "source": [
    "# <center>**Course Project** </center>\n",
    "\n",
    "**Policy**\n",
    "\n",
    "1. You may use your own or any software packages/modules/codes to do this project.  \n",
    "2. The project must be done in groups of 3–6 persons, each working together to complete all the tasks. \n",
    "3. The report should be no more than 20 pages, including figures and tables. In addition, one page describing in detail the contributions of each of the members in the group must be included. All of these MUST be in PDF file format.  \n",
    "4. Source code written for this project must be submitted.  \n",
    "5. You are encouraged to go beyond the described tasks along with the central topic. Quality and innovative work will be greatly rewarded.  \n",
    "6. All submissions must be online at the course website.  \n",
    "\n",
    "Consider the penetration of a bullet into a plate, as shown in the following figure.\n",
    "\n",
    "<div>\n",
    "<br>\n",
    "<img src=\"../../images/Penetration.png\" width=\"300\"/>\n",
    "<br>\n",
    "[A bullet penetrated a circular plate]\n",
    "</div>\n",
    "\n",
    "Study the paper entitled \"*Real-time prediction of projectile penetration to laminates by training machine learning models with finite element solver as the trainer*\", given in the file folder of the course website. The dataset for this study was generated from a large number of FEM analyses for a real research project, and it is also provided in the file folder. The Python code for the neural network is included there as `Neural_network_FEA.py`. Note that this neural network model is for predicting the entire time history of the velocity of the bullet, both before and after the penetration. Before proceeding with your own tasks, you should first try to replicate the neural network work using the same dataset and code.\n",
    "\n",
    " 1. Establish a new neural network model to predict the velocity profile of the bullet using the same given dataset, aiming to outperform the one in the paper. You may need to preprocess the dataset before using it.  \n",
    "\n",
    "2. Establish any other alternative model(s) to replicate Task 1.  \n",
    "\n",
    "3. Discuss what type of ML model works best for this type of data. \n",
    "\n",
    "You may use any existing third-party ML modules or your own code to complete these tasks.\n",
    "\n",
    "Please submit both the codes and the report online by the deadline. No extension will be given, as this is the final project."
   ]
  },
  {
   "cell_type": "markdown",
   "metadata": {},
   "source": [
    "\n"
   ]
  }
 ],
 "metadata": {
  "kernelspec": {
   "display_name": "Python 3 (ipykernel)",
   "language": "python",
   "name": "python3"
  },
  "language_info": {
   "codemirror_mode": {
    "name": "ipython",
    "version": 3
   },
   "file_extension": ".py",
   "mimetype": "text/x-python",
   "name": "python",
   "nbconvert_exporter": "python",
   "pygments_lexer": "ipython3",
   "version": "3.9.16"
  },
  "latex_envs": {
   "LaTeX_envs_menu_present": true,
   "autoclose": false,
   "autocomplete": true,
   "bibliofile": "biblio.bib",
   "cite_by": "apalike",
   "current_citInitial": 1,
   "eqLabelWithNumbers": true,
   "eqNumInitial": 1,
   "hotkeys": {
    "equation": "Ctrl-E",
    "itemize": "Ctrl-I"
   },
   "labels_anchors": false,
   "latex_user_defs": false,
   "report_style_numbering": false,
   "user_envs_cfg": false
  },
  "toc": {
   "base_numbering": "",
   "nav_menu": {},
   "number_sections": false,
   "sideBar": true,
   "skip_h1_title": false,
   "title_cell": "",
   "title_sidebar": "",
   "toc_cell": false,
   "toc_position": {
    "height": "calc(100% - 180px)",
    "left": "10px",
    "top": "150px",
    "width": "165px"
   },
   "toc_section_display": true,
   "toc_window_display": false
  },
  "varInspector": {
   "cols": {
    "lenName": 16,
    "lenType": 16,
    "lenVar": 40
   },
   "kernels_config": {
    "python": {
     "delete_cmd_postfix": "",
     "delete_cmd_prefix": "del ",
     "library": "var_list.py",
     "varRefreshCmd": "print(var_dic_list())"
    },
    "r": {
     "delete_cmd_postfix": ") ",
     "delete_cmd_prefix": "rm(",
     "library": "var_list.r",
     "varRefreshCmd": "cat(var_dic_list()) "
    }
   },
   "types_to_exclude": [
    "module",
    "function",
    "builtin_function_or_method",
    "instance",
    "_Feature"
   ],
   "window_display": false
  }
 },
 "nbformat": 4,
 "nbformat_minor": 2
}
